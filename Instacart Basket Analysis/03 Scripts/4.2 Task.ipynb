{
 "cells": [
  {
   "cell_type": "markdown",
   "id": "30060341",
   "metadata": {},
   "source": [
    "# 01. Importing Libraries"
   ]
  },
  {
   "cell_type": "code",
   "execution_count": 1,
   "id": "e16f3eea",
   "metadata": {},
   "outputs": [],
   "source": [
    "# Import libraries\n",
    "import pandas as pd\n",
    "import numpy as np\n",
    "import os"
   ]
  },
  {
   "cell_type": "markdown",
   "id": "5b912352",
   "metadata": {},
   "source": [
    "# 02. Data Types"
   ]
  },
  {
   "cell_type": "code",
   "execution_count": 2,
   "id": "40e1ee4d",
   "metadata": {},
   "outputs": [],
   "source": [
    "x = 50"
   ]
  },
  {
   "cell_type": "code",
   "execution_count": 3,
   "id": "930a5064",
   "metadata": {},
   "outputs": [
    {
     "data": {
      "text/plain": [
       "100"
      ]
     },
     "execution_count": 3,
     "metadata": {},
     "output_type": "execute_result"
    }
   ],
   "source": [
    "x * 2"
   ]
  },
  {
   "cell_type": "code",
   "execution_count": 4,
   "id": "4886a41b",
   "metadata": {},
   "outputs": [
    {
     "data": {
      "text/plain": [
       "100"
      ]
     },
     "execution_count": 4,
     "metadata": {},
     "output_type": "execute_result"
    }
   ],
   "source": [
    "x + x"
   ]
  },
  {
   "cell_type": "code",
   "execution_count": 5,
   "id": "b5a6f6ad",
   "metadata": {},
   "outputs": [],
   "source": [
    "y = 150"
   ]
  },
  {
   "cell_type": "code",
   "execution_count": 6,
   "id": "aac61c99",
   "metadata": {},
   "outputs": [
    {
     "data": {
      "text/plain": [
       "100"
      ]
     },
     "execution_count": 6,
     "metadata": {},
     "output_type": "execute_result"
    }
   ],
   "source": [
    "y - x"
   ]
  },
  {
   "cell_type": "code",
   "execution_count": 7,
   "id": "9c4624dc",
   "metadata": {},
   "outputs": [],
   "source": [
    "a = 23.45"
   ]
  },
  {
   "cell_type": "code",
   "execution_count": 8,
   "id": "f8369325",
   "metadata": {},
   "outputs": [],
   "source": [
    "b = 1.99"
   ]
  },
  {
   "cell_type": "code",
   "execution_count": 9,
   "id": "a855245d",
   "metadata": {},
   "outputs": [
    {
     "data": {
      "text/plain": [
       "11.78391959798995"
      ]
     },
     "execution_count": 9,
     "metadata": {},
     "output_type": "execute_result"
    }
   ],
   "source": [
    "a / b"
   ]
  },
  {
   "cell_type": "code",
   "execution_count": 10,
   "id": "f3b40774",
   "metadata": {},
   "outputs": [],
   "source": [
    "c = 'ba'"
   ]
  },
  {
   "cell_type": "code",
   "execution_count": 11,
   "id": "f857b161",
   "metadata": {},
   "outputs": [],
   "source": [
    "d = 'na'"
   ]
  },
  {
   "cell_type": "code",
   "execution_count": 12,
   "id": "6a8c4921",
   "metadata": {},
   "outputs": [
    {
     "data": {
      "text/plain": [
       "'banana'"
      ]
     },
     "execution_count": 12,
     "metadata": {},
     "output_type": "execute_result"
    }
   ],
   "source": [
    "c + d * 2"
   ]
  },
  {
   "cell_type": "code",
   "execution_count": 17,
   "id": "275393c7",
   "metadata": {},
   "outputs": [],
   "source": [
    "e = 'Dana '"
   ]
  },
  {
   "cell_type": "code",
   "execution_count": 19,
   "id": "2cdfbb78",
   "metadata": {},
   "outputs": [],
   "source": [
    "f = 'drinks coffee '"
   ]
  },
  {
   "cell_type": "code",
   "execution_count": 15,
   "id": "c154fd7b",
   "metadata": {},
   "outputs": [],
   "source": [
    "g = 'every morning.'"
   ]
  },
  {
   "cell_type": "code",
   "execution_count": 20,
   "id": "1e02e888",
   "metadata": {},
   "outputs": [
    {
     "data": {
      "text/plain": [
       "'Dana drinks coffee every morning.'"
      ]
     },
     "execution_count": 20,
     "metadata": {},
     "output_type": "execute_result"
    }
   ],
   "source": [
    "e + f + g"
   ]
  },
  {
   "cell_type": "code",
   "execution_count": 22,
   "id": "2c81bec3",
   "metadata": {},
   "outputs": [],
   "source": [
    "h = 'sometimes '"
   ]
  },
  {
   "cell_type": "code",
   "execution_count": 23,
   "id": "fea820fe",
   "metadata": {},
   "outputs": [],
   "source": [
    "i = 'in the afternoon.'"
   ]
  },
  {
   "cell_type": "code",
   "execution_count": 24,
   "id": "09d68ac5",
   "metadata": {},
   "outputs": [
    {
     "data": {
      "text/plain": [
       "'Dana sometimes drinks coffee in the afternoon.'"
      ]
     },
     "execution_count": 24,
     "metadata": {},
     "output_type": "execute_result"
    }
   ],
   "source": [
    "e + h + f + i"
   ]
  },
  {
   "cell_type": "code",
   "execution_count": 25,
   "id": "c272a259",
   "metadata": {},
   "outputs": [
    {
     "data": {
      "text/plain": [
       "'bananabananabananabananabananabananabananabananabananabananabananabananabananabananabananabananabananabananabananabananabananabananabananabananabananabananabananabananabananabananabananabananabananabananabananabananabananabananabananabananabananabananabananabananabananabananabananabananabananabananabananabananabananabananabananabananabananabananabananabananabananabananabananabananabananabananabananabananabananabananabananabananabananabananabananabananabananabananabananabananabananabananabananabananabananabananabananabananabananabananabananabananabananabananabananabananabananabananabananabanana'"
      ]
     },
     "execution_count": 25,
     "metadata": {},
     "output_type": "execute_result"
    }
   ],
   "source": [
    "(c + d * 2)*100"
   ]
  },
  {
   "cell_type": "code",
   "execution_count": null,
   "id": "725eea57",
   "metadata": {},
   "outputs": [],
   "source": []
  }
 ],
 "metadata": {
  "kernelspec": {
   "display_name": "Python 3 (ipykernel)",
   "language": "python",
   "name": "python3"
  },
  "language_info": {
   "codemirror_mode": {
    "name": "ipython",
    "version": 3
   },
   "file_extension": ".py",
   "mimetype": "text/x-python",
   "name": "python",
   "nbconvert_exporter": "python",
   "pygments_lexer": "ipython3",
   "version": "3.9.12"
  }
 },
 "nbformat": 4,
 "nbformat_minor": 5
}
