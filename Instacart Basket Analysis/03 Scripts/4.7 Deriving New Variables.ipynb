{
 "cells": [
  {
   "cell_type": "markdown",
   "id": "688510a9",
   "metadata": {},
   "source": [
    "# 01 Import libraries"
   ]
  },
  {
   "cell_type": "code",
   "execution_count": 1,
   "id": "8b4f3776",
   "metadata": {},
   "outputs": [],
   "source": [
    "# Import libraries\n",
    "import pandas as pd\n",
    "import numpy as np\n",
    "import os"
   ]
  },
  {
   "cell_type": "markdown",
   "id": "01388c55",
   "metadata": {},
   "source": [
    "# 02 Import Data"
   ]
  },
  {
   "cell_type": "code",
   "execution_count": 2,
   "id": "a7171bfe",
   "metadata": {},
   "outputs": [],
   "source": [
    "# Create path\n",
    "path = r'/Users/dana/Documents/Instacart Basket Analysis/'"
   ]
  },
  {
   "cell_type": "code",
   "execution_count": 3,
   "id": "3607564c",
   "metadata": {},
   "outputs": [],
   "source": [
    "# import data\n",
    "ords_prods_merged = pd.read_pickle(os.path.join(path, '02 Data', 'Prepared Data', 'orders_products_merged.pkl'))"
   ]
  },
  {
   "cell_type": "markdown",
   "id": "19acac66",
   "metadata": {},
   "source": [
    "# 03 Exercise"
   ]
  },
  {
   "cell_type": "markdown",
   "id": "57554eba",
   "metadata": {},
   "source": [
    "## 1. If-Statements with User-Defined Functions"
   ]
  },
  {
   "cell_type": "code",
   "execution_count": 5,
   "id": "e3294a98",
   "metadata": {},
   "outputs": [],
   "source": [
    "# create smaller subset to work with\n",
    "df = ords_prods_merged[:1000000]"
   ]
  },
  {
   "cell_type": "code",
   "execution_count": 6,
   "id": "5eb34bb8",
   "metadata": {},
   "outputs": [],
   "source": [
    "# define function for labeling low-, mid-, and high-range products\n",
    "\n",
    "def price_label(row):\n",
    "\n",
    "  if row['prices'] <= 5:\n",
    "    return 'Low-range product'\n",
    "  elif (row['prices'] > 5) and (row['prices'] <= 15):\n",
    "    return 'Mid-range product'\n",
    "  elif row['prices'] > 15:\n",
    "    return 'High range'\n",
    "  else: return 'Not enough data'"
   ]
  },
  {
   "cell_type": "code",
   "execution_count": 7,
   "id": "7d75ec59",
   "metadata": {},
   "outputs": [
    {
     "name": "stderr",
     "output_type": "stream",
     "text": [
      "/var/folders/xl/7_yccdl123jf248d4rbf8h1m0000gn/T/ipykernel_38720/2198518253.py:2: SettingWithCopyWarning: \n",
      "A value is trying to be set on a copy of a slice from a DataFrame.\n",
      "Try using .loc[row_indexer,col_indexer] = value instead\n",
      "\n",
      "See the caveats in the documentation: https://pandas.pydata.org/pandas-docs/stable/user_guide/indexing.html#returning-a-view-versus-a-copy\n",
      "  df['price_range'] = df.apply(price_label, axis=1)\n"
     ]
    }
   ],
   "source": [
    "# use price_label to create new column\n",
    "df['price_range'] = df.apply(price_label, axis=1)"
   ]
  },
  {
   "cell_type": "code",
   "execution_count": 9,
   "id": "9e6b1b9a",
   "metadata": {},
   "outputs": [
    {
     "data": {
      "text/plain": [
       "Mid-range product    756450\n",
       "Low-range product    243550\n",
       "Name: price_range, dtype: int64"
      ]
     },
     "execution_count": 9,
     "metadata": {},
     "output_type": "execute_result"
    }
   ],
   "source": [
    "# use value_counts on price_range column\n",
    "df['price_range'].value_counts()"
   ]
  },
  {
   "cell_type": "code",
   "execution_count": 10,
   "id": "f3fe5c19",
   "metadata": {},
   "outputs": [
    {
     "data": {
      "text/plain": [
       "14.8"
      ]
     },
     "execution_count": 10,
     "metadata": {},
     "output_type": "execute_result"
    }
   ],
   "source": [
    "# check max price\n",
    "df['prices'].max()"
   ]
  },
  {
   "cell_type": "markdown",
   "id": "4ade56e8",
   "metadata": {},
   "source": [
    "## 2. If-Statements with the loc() Function"
   ]
  },
  {
   "cell_type": "code",
   "execution_count": 23,
   "id": "20504212",
   "metadata": {},
   "outputs": [],
   "source": [
    "# create conditions similar to above but using loc\n",
    "df.loc[df['prices'] > 15, 'price_range_loc'] = 'High-range product'"
   ]
  },
  {
   "cell_type": "code",
   "execution_count": 12,
   "id": "192499ed",
   "metadata": {},
   "outputs": [],
   "source": [
    "df.loc[(df['prices'] <= 15) & (df['prices'] > 5), 'price_range_loc'] = 'Mid-range product' "
   ]
  },
  {
   "cell_type": "code",
   "execution_count": 13,
   "id": "b4092c5b",
   "metadata": {},
   "outputs": [],
   "source": [
    "df.loc[df['prices'] <= 5, 'price_range_loc'] = 'Low-range product'"
   ]
  },
  {
   "cell_type": "code",
   "execution_count": 14,
   "id": "413e4293",
   "metadata": {},
   "outputs": [
    {
     "data": {
      "text/plain": [
       "Mid-range product    756450\n",
       "Low-range product    243550\n",
       "Name: price_range_loc, dtype: int64"
      ]
     },
     "execution_count": 14,
     "metadata": {},
     "output_type": "execute_result"
    }
   ],
   "source": [
    "# use value_counts on price_range_loc\n",
    "df['price_range_loc'].value_counts()"
   ]
  },
  {
   "cell_type": "code",
   "execution_count": 26,
   "id": "69494662",
   "metadata": {},
   "outputs": [],
   "source": [
    "# since loc is faster than user-created, now run on whole dataset\n",
    "ords_prods_merged.loc[ords_prods_merged['prices'] > 15, 'price_range_loc'] = 'High-range product'"
   ]
  },
  {
   "cell_type": "code",
   "execution_count": 24,
   "id": "3a25c2aa",
   "metadata": {},
   "outputs": [],
   "source": [
    "ords_prods_merged.loc[(ords_prods_merged['prices'] <= 15) & (df['prices'] > 5), 'price_range_loc'] = 'Mid-range product' "
   ]
  },
  {
   "cell_type": "code",
   "execution_count": 25,
   "id": "15efd720",
   "metadata": {},
   "outputs": [],
   "source": [
    "ords_prods_merged.loc[ords_prods_merged['prices'] <= 5, 'price_range_loc'] = 'Low-range product'"
   ]
  },
  {
   "cell_type": "code",
   "execution_count": 27,
   "id": "dc94a104",
   "metadata": {},
   "outputs": [
    {
     "data": {
      "text/plain": [
       "Low-range product     10126324\n",
       "Mid-range product       756450\n",
       "High-range product      417678\n",
       "Name: price_range_loc, dtype: int64"
      ]
     },
     "execution_count": 27,
     "metadata": {},
     "output_type": "execute_result"
    }
   ],
   "source": [
    "# show value counts for whole dataset\n",
    "ords_prods_merged['price_range_loc'].value_counts()"
   ]
  },
  {
   "cell_type": "markdown",
   "id": "b540c30a",
   "metadata": {},
   "source": [
    "## 3. If-Statements with For-Loops"
   ]
  },
  {
   "cell_type": "code",
   "execution_count": 32,
   "id": "158f3a4b",
   "metadata": {},
   "outputs": [
    {
     "data": {
      "text/plain": [
       "0.0    6209808\n",
       "1.0    5665951\n",
       "6.0    4500391\n",
       "2.0    4217868\n",
       "5.0    4209603\n",
       "3.0    3844175\n",
       "4.0    3787263\n",
       "NaN         11\n",
       "Name: orders_day_of_week, dtype: int64"
      ]
     },
     "execution_count": 32,
     "metadata": {},
     "output_type": "execute_result"
    }
   ],
   "source": [
    "# find busiest day of the week\n",
    "ords_prods_merged['orders_day_of_week'].value_counts(dropna = False)"
   ]
  },
  {
   "cell_type": "code",
   "execution_count": 34,
   "id": "29ce8854",
   "metadata": {},
   "outputs": [],
   "source": [
    "# create for-loop\n",
    "result = []\n",
    "\n",
    "for value in ords_prods_merged[\"orders_day_of_week\"]:\n",
    "  if value == 0:\n",
    "    result.append(\"Busiest day\")\n",
    "  elif value == 4:\n",
    "    result.append(\"Least busy\")\n",
    "  else:\n",
    "    result.append(\"Regularly busy\")"
   ]
  },
  {
   "cell_type": "code",
   "execution_count": 36,
   "id": "4b6bd514",
   "metadata": {},
   "outputs": [],
   "source": [
    "# create new column for result\n",
    "ords_prods_merged['busiest day'] = result"
   ]
  },
  {
   "cell_type": "code",
   "execution_count": 37,
   "id": "d4a5c99f",
   "metadata": {},
   "outputs": [
    {
     "data": {
      "text/plain": [
       "Regularly busy    22437999\n",
       "Busiest day        6209808\n",
       "Least busy         3787263\n",
       "Name: busiest day, dtype: int64"
      ]
     },
     "execution_count": 37,
     "metadata": {},
     "output_type": "execute_result"
    }
   ],
   "source": [
    "# count values\n",
    "ords_prods_merged['busiest day'].value_counts()"
   ]
  },
  {
   "cell_type": "markdown",
   "id": "171b16e8",
   "metadata": {},
   "source": [
    "# 04 Task"
   ]
  },
  {
   "cell_type": "markdown",
   "id": "6e734025",
   "metadata": {},
   "source": [
    "### Create a new column with 2 busiest days and 2 slowest days"
   ]
  },
  {
   "cell_type": "code",
   "execution_count": 97,
   "id": "e94b4e2d",
   "metadata": {},
   "outputs": [],
   "source": [
    "# create for-loop of busiest days\n",
    "result = []\n",
    "\n",
    "for value in ords_prods_merged[\"orders_day_of_week\"]:\n",
    "  if value in [0,1]:\n",
    "    result.append(\"Busiest day\")\n",
    "  elif value in [3,4]:\n",
    "    result.append(\"Least busy\")\n",
    "  else:\n",
    "    result.append(\"Regularly busy\")"
   ]
  },
  {
   "cell_type": "code",
   "execution_count": 100,
   "id": "8f0c6832",
   "metadata": {},
   "outputs": [],
   "source": [
    "# create new column for result\n",
    "ords_prods_merged['busiest days'] = result"
   ]
  },
  {
   "cell_type": "code",
   "execution_count": 101,
   "id": "0dd0c971",
   "metadata": {},
   "outputs": [
    {
     "data": {
      "text/plain": [
       "Regularly busy    12927873\n",
       "Busiest day       11875759\n",
       "Least busy         7631438\n",
       "Name: busiest days, dtype: int64"
      ]
     },
     "execution_count": 101,
     "metadata": {},
     "output_type": "execute_result"
    }
   ],
   "source": [
    "# count values\n",
    "ords_prods_merged['busiest days'].value_counts()"
   ]
  },
  {
   "cell_type": "code",
   "execution_count": null,
   "id": "538157c2",
   "metadata": {},
   "outputs": [],
   "source": [
    "# numbers add up according to value counts found earlier"
   ]
  },
  {
   "cell_type": "markdown",
   "id": "522313dd",
   "metadata": {},
   "source": [
    "### Create a new column to show busiest times of day"
   ]
  },
  {
   "cell_type": "code",
   "execution_count": 69,
   "id": "c9a6a850",
   "metadata": {},
   "outputs": [
    {
     "data": {
      "text/plain": [
       "10.0    2764476\n",
       "11.0    2738647\n",
       "14.0    2691598\n",
       "15.0    2664583\n",
       "13.0    2663346\n",
       "12.0    2620898\n",
       "16.0    2537506\n",
       "9.0     2456751\n",
       "17.0    2089510\n",
       "8.0     1719991\n",
       "18.0    1637956\n",
       "19.0    1259416\n",
       "20.0     977049\n",
       "7.0      891951\n",
       "21.0     796379\n",
       "22.0     634743\n",
       "23.0     402621\n",
       "6.0      290796\n",
       "0.0      218951\n",
       "1.0      115787\n",
       "5.0       88064\n",
       "2.0       69435\n",
       "4.0       53284\n",
       "3.0       51321\n",
       "Name: order_hour_of_day, dtype: int64"
      ]
     },
     "execution_count": 69,
     "metadata": {},
     "output_type": "execute_result"
    }
   ],
   "source": [
    "# find value counts to determine ranges\n",
    "ords_prods_merged['order_hour_of_day'].value_counts()"
   ]
  },
  {
   "cell_type": "code",
   "execution_count": 70,
   "id": "e6992000",
   "metadata": {},
   "outputs": [],
   "source": [
    "# break into 3 groups -\n",
    "#   'Most orders' = 9-16\n",
    "#   'Fewest orders' = 0-6, 23\n",
    "#   'Average orders' = 7-8, 17-22"
   ]
  },
  {
   "cell_type": "code",
   "execution_count": 72,
   "id": "d61f5b9f",
   "metadata": {},
   "outputs": [],
   "source": [
    "# create groups - most orders 9-16\n",
    "ords_prods_merged.loc[(ords_prods_merged['order_hour_of_day'] <= 16) & (ords_prods_merged['order_hour_of_day'] >= 9), 'busiest_period_of_day'] = 'Most orders' "
   ]
  },
  {
   "cell_type": "code",
   "execution_count": 76,
   "id": "c6aaf63d",
   "metadata": {},
   "outputs": [],
   "source": [
    "   # least orders 0-6\n",
    "ords_prods_merged.loc[(ords_prods_merged['order_hour_of_day'] <= 6) & (ords_prods_merged['order_hour_of_day'] >= 0), 'busiest_period_of_day'] = 'Least orders' "
   ]
  },
  {
   "cell_type": "code",
   "execution_count": 77,
   "id": "406cee18",
   "metadata": {},
   "outputs": [],
   "source": [
    "    # least orders 23\n",
    "ords_prods_merged.loc[(ords_prods_merged['order_hour_of_day'] == 23), 'busiest_period_of_day'] = 'Least orders' "
   ]
  },
  {
   "cell_type": "code",
   "execution_count": 79,
   "id": "5ac9fff7",
   "metadata": {},
   "outputs": [],
   "source": [
    "    # average orders 7-8\n",
    "ords_prods_merged.loc[(ords_prods_merged['order_hour_of_day'] <= 8) & (ords_prods_merged['order_hour_of_day'] >= 7), 'busiest_period_of_day'] = 'Average orders' "
   ]
  },
  {
   "cell_type": "code",
   "execution_count": 80,
   "id": "a0f5ae16",
   "metadata": {},
   "outputs": [],
   "source": [
    " # average orders 17-22\n",
    "ords_prods_merged.loc[(ords_prods_merged['order_hour_of_day'] <= 22) & (ords_prods_merged['order_hour_of_day'] >= 17), 'busiest_period_of_day'] = 'Average orders' "
   ]
  },
  {
   "cell_type": "code",
   "execution_count": 81,
   "id": "f971d23e",
   "metadata": {},
   "outputs": [
    {
     "data": {
      "text/plain": [
       "Most orders       21137805\n",
       "Average orders    10006995\n",
       "Least orders       1290259\n",
       "Name: busiest_period_of_day, dtype: int64"
      ]
     },
     "execution_count": 81,
     "metadata": {},
     "output_type": "execute_result"
    }
   ],
   "source": [
    "# check value counts\n",
    "ords_prods_merged['busiest_period_of_day'].value_counts()"
   ]
  },
  {
   "cell_type": "code",
   "execution_count": 86,
   "id": "88f70229",
   "metadata": {},
   "outputs": [
    {
     "data": {
      "text/html": [
       "<div>\n",
       "<style scoped>\n",
       "    .dataframe tbody tr th:only-of-type {\n",
       "        vertical-align: middle;\n",
       "    }\n",
       "\n",
       "    .dataframe tbody tr th {\n",
       "        vertical-align: top;\n",
       "    }\n",
       "\n",
       "    .dataframe thead th {\n",
       "        text-align: right;\n",
       "    }\n",
       "</style>\n",
       "<table border=\"1\" class=\"dataframe\">\n",
       "  <thead>\n",
       "    <tr style=\"text-align: right;\">\n",
       "      <th></th>\n",
       "      <th>order_hour_of_day</th>\n",
       "      <th>busiest_period_of_day</th>\n",
       "    </tr>\n",
       "  </thead>\n",
       "  <tbody>\n",
       "    <tr>\n",
       "      <th>0</th>\n",
       "      <td>8.0</td>\n",
       "      <td>Average orders</td>\n",
       "    </tr>\n",
       "    <tr>\n",
       "      <th>1</th>\n",
       "      <td>7.0</td>\n",
       "      <td>Average orders</td>\n",
       "    </tr>\n",
       "    <tr>\n",
       "      <th>2</th>\n",
       "      <td>12.0</td>\n",
       "      <td>Most orders</td>\n",
       "    </tr>\n",
       "    <tr>\n",
       "      <th>3</th>\n",
       "      <td>7.0</td>\n",
       "      <td>Average orders</td>\n",
       "    </tr>\n",
       "    <tr>\n",
       "      <th>4</th>\n",
       "      <td>15.0</td>\n",
       "      <td>Most orders</td>\n",
       "    </tr>\n",
       "    <tr>\n",
       "      <th>5</th>\n",
       "      <td>7.0</td>\n",
       "      <td>Average orders</td>\n",
       "    </tr>\n",
       "    <tr>\n",
       "      <th>6</th>\n",
       "      <td>9.0</td>\n",
       "      <td>Most orders</td>\n",
       "    </tr>\n",
       "    <tr>\n",
       "      <th>7</th>\n",
       "      <td>14.0</td>\n",
       "      <td>Most orders</td>\n",
       "    </tr>\n",
       "    <tr>\n",
       "      <th>8</th>\n",
       "      <td>16.0</td>\n",
       "      <td>Most orders</td>\n",
       "    </tr>\n",
       "    <tr>\n",
       "      <th>9</th>\n",
       "      <td>8.0</td>\n",
       "      <td>Average orders</td>\n",
       "    </tr>\n",
       "  </tbody>\n",
       "</table>\n",
       "</div>"
      ],
      "text/plain": [
       "   order_hour_of_day busiest_period_of_day\n",
       "0                8.0        Average orders\n",
       "1                7.0        Average orders\n",
       "2               12.0           Most orders\n",
       "3                7.0        Average orders\n",
       "4               15.0           Most orders\n",
       "5                7.0        Average orders\n",
       "6                9.0           Most orders\n",
       "7               14.0           Most orders\n",
       "8               16.0           Most orders\n",
       "9                8.0        Average orders"
      ]
     },
     "execution_count": 86,
     "metadata": {},
     "output_type": "execute_result"
    }
   ],
   "source": [
    "# check results\n",
    "ords_prods_merged[['order_hour_of_day', 'busiest_period_of_day']].head(10)"
   ]
  },
  {
   "cell_type": "code",
   "execution_count": 102,
   "id": "5f61783b",
   "metadata": {},
   "outputs": [],
   "source": [
    "# export dataframe\n",
    "ords_prods_merged.to_pickle(os.path.join(path, '02 Data','Prepared Data', 'ords_prods_merged.pkl'))"
   ]
  },
  {
   "cell_type": "code",
   "execution_count": null,
   "id": "e0cca8f0",
   "metadata": {},
   "outputs": [],
   "source": []
  }
 ],
 "metadata": {
  "kernelspec": {
   "display_name": "Python 3 (ipykernel)",
   "language": "python",
   "name": "python3"
  },
  "language_info": {
   "codemirror_mode": {
    "name": "ipython",
    "version": 3
   },
   "file_extension": ".py",
   "mimetype": "text/x-python",
   "name": "python",
   "nbconvert_exporter": "python",
   "pygments_lexer": "ipython3",
   "version": "3.9.12"
  }
 },
 "nbformat": 4,
 "nbformat_minor": 5
}
