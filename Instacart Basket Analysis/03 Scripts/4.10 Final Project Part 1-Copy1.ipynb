{
 "cells": [
  {
   "cell_type": "markdown",
   "id": "ce99b835",
   "metadata": {},
   "source": [
    "# 01 Import Libraries"
   ]
  },
  {
   "cell_type": "code",
   "execution_count": 1,
   "id": "30f8e1f4",
   "metadata": {},
   "outputs": [],
   "source": [
    "# Import libraries\n",
    "import pandas as pd\n",
    "import numpy as np\n",
    "import os\n",
    "\n",
    "import matplotlib.pyplot as plt\n",
    "import seaborn as sns\n",
    "import scipy"
   ]
  },
  {
   "cell_type": "markdown",
   "id": "9b231bf9",
   "metadata": {},
   "source": [
    "# 02 Import Data"
   ]
  },
  {
   "cell_type": "code",
   "execution_count": 2,
   "id": "0548887d",
   "metadata": {},
   "outputs": [],
   "source": [
    "# Create path\n",
    "path = r'/Users/dana/Documents/Instacart Basket Analysis/'"
   ]
  },
  {
   "cell_type": "code",
   "execution_count": 3,
   "id": "0bc580be",
   "metadata": {},
   "outputs": [],
   "source": [
    "# import data\n",
    "df = pd.read_pickle(os.path.join(path, '02 Data', 'Prepared Data', 'orders_products_all.pkl'))"
   ]
  },
  {
   "cell_type": "markdown",
   "id": "8a8f5d0a",
   "metadata": {},
   "source": [
    "# 03 Task"
   ]
  },
  {
   "cell_type": "markdown",
   "id": "5e7c21d3",
   "metadata": {},
   "source": [
    "### Consider PII"
   ]
  },
  {
   "cell_type": "code",
   "execution_count": 4,
   "id": "67c313fb",
   "metadata": {},
   "outputs": [
    {
     "data": {
      "text/plain": [
       "Index(['order_id', 'user_id', 'order_number', 'orders_day_of_week',\n",
       "       'order_hour_of_day', 'days_since_last_order', 'new_customer',\n",
       "       'product_id', 'add_to_cart_order', 'reordered', 'product_name',\n",
       "       'aisle_id', 'department_id', 'prices', 'max_order', 'loyalty_flag',\n",
       "       'avg_spent', 'spender_flag', 'order_frequency', 'order_freqency_flag',\n",
       "       'age', 'number_of_dependents', 'family_status', 'income', 'state'],\n",
       "      dtype='object')"
      ]
     },
     "execution_count": 4,
     "metadata": {},
     "output_type": "execute_result"
    }
   ],
   "source": [
    "df.columns"
   ]
  },
  {
   "cell_type": "code",
   "execution_count": 5,
   "id": "88cc2b1a",
   "metadata": {},
   "outputs": [],
   "source": [
    "# the first name and last name data would have been PII but I already removed that."
   ]
  },
  {
   "cell_type": "markdown",
   "id": "d2f1302b",
   "metadata": {},
   "source": [
    "### Compare customer behavior in different geographic regions"
   ]
  },
  {
   "cell_type": "code",
   "execution_count": 6,
   "id": "f851e826",
   "metadata": {},
   "outputs": [
    {
     "data": {
      "text/plain": [
       "Index(['order_id', 'user_id', 'order_number', 'orders_day_of_week',\n",
       "       'order_hour_of_day', 'days_since_last_order', 'new_customer',\n",
       "       'product_id', 'add_to_cart_order', 'reordered', 'product_name',\n",
       "       'aisle_id', 'department_id', 'prices', 'max_order', 'loyalty_flag',\n",
       "       'avg_spent', 'spender_flag', 'order_frequency', 'order_freqency_flag',\n",
       "       'age', 'number_of_dependents', 'family_status', 'income', 'state'],\n",
       "      dtype='object')"
      ]
     },
     "execution_count": 6,
     "metadata": {},
     "output_type": "execute_result"
    }
   ],
   "source": [
    "# check columns\n",
    "df.columns"
   ]
  },
  {
   "cell_type": "code",
   "execution_count": 7,
   "id": "04822e19",
   "metadata": {},
   "outputs": [
    {
     "data": {
      "text/plain": [
       "Pennsylvania            667738\n",
       "California              660428\n",
       "Rhode Island            657662\n",
       "Georgia                 657092\n",
       "New Mexico              655188\n",
       "Arizona                 654553\n",
       "North Carolina          652329\n",
       "Oklahoma                652275\n",
       "Alaska                  649026\n",
       "Minnesota               648424\n",
       "Massachusetts           647020\n",
       "Wyoming                 644927\n",
       "Virginia                642103\n",
       "Missouri                641323\n",
       "Texas                   641051\n",
       "Colorado                639820\n",
       "Maine                   639175\n",
       "North Dakota            638997\n",
       "Alabama                 638650\n",
       "Louisiana               638179\n",
       "Kansas                  638021\n",
       "Delaware                637477\n",
       "South Carolina          637423\n",
       "Oregon                  636966\n",
       "Arkansas                636737\n",
       "New York                636707\n",
       "Nevada                  636697\n",
       "Montana                 635838\n",
       "South Dakota            634362\n",
       "Illinois                633476\n",
       "Hawaii                  633446\n",
       "Washington              633445\n",
       "Mississippi             633130\n",
       "Kentucky                632955\n",
       "Michigan                631637\n",
       "Florida                 629631\n",
       "Ohio                    629016\n",
       "Wisconsin               628590\n",
       "New Jersey              628303\n",
       "Indiana                 627791\n",
       "Maryland                627273\n",
       "Nebraska                626294\n",
       "Iowa                    626085\n",
       "Connecticut             623594\n",
       "Tennessee               618405\n",
       "New Hampshire           615976\n",
       "District of Columbia    614334\n",
       "West Virginia           612938\n",
       "Utah                    612472\n",
       "Vermont                 612269\n",
       "Idaho                   607811\n",
       "Name: state, dtype: int64"
      ]
     },
     "execution_count": 7,
     "metadata": {},
     "output_type": "execute_result"
    }
   ],
   "source": [
    "# check value counts\n",
    "df['state'].value_counts()"
   ]
  },
  {
   "cell_type": "markdown",
   "id": "0868566e",
   "metadata": {},
   "source": [
    "#### Create a region column using region subsets"
   ]
  },
  {
   "cell_type": "code",
   "execution_count": 8,
   "id": "49779c10",
   "metadata": {},
   "outputs": [],
   "source": [
    "result = []\n",
    "\n",
    "for value in df['state']:\n",
    "  if value in ['Maine', 'New Hampshire', 'Vermont','Massachusetts', \n",
    "            'Rhode Island','Connecticut','New York','Pennsylvania','New Jersey']:\n",
    "    result.append('northeast')\n",
    "  elif value in ['Wisconsin', 'Michigan', 'Illinois','Indiana','Ohio','North Dakota',\n",
    "                'South Dakota','Nebraska','Kansas','Minnesota','Iowa','Missouri']:\n",
    "    result.append('midwest')\n",
    "  elif value in ['Delaware', 'Maryland', 'District of Columbia','Virginia', \n",
    "                'West Virginia','North Carolina','South Carolina','Georgia','Florida','Kentucky',\n",
    "                'Tennessee','Mississippi','Alabama','Oklahoma','Texas','Arkansas','Louisiana']:\n",
    "    result.append('south')\n",
    "  elif value in ['Idaho', 'Montana', 'Wyoming','Nevada','Utah','Colorado','Arizona',\n",
    "                            'New Mexico','Alaska','Washington','Oregon','California','Hawaii']:\n",
    "    result.append('west')"
   ]
  },
  {
   "cell_type": "code",
   "execution_count": 9,
   "id": "d8aef497",
   "metadata": {},
   "outputs": [],
   "source": [
    "# create new column for result\n",
    "df['region'] = result"
   ]
  },
  {
   "cell_type": "code",
   "execution_count": 10,
   "id": "6c3d3fd3",
   "metadata": {},
   "outputs": [
    {
     "data": {
      "text/html": [
       "<div>\n",
       "<style scoped>\n",
       "    .dataframe tbody tr th:only-of-type {\n",
       "        vertical-align: middle;\n",
       "    }\n",
       "\n",
       "    .dataframe tbody tr th {\n",
       "        vertical-align: top;\n",
       "    }\n",
       "\n",
       "    .dataframe thead th {\n",
       "        text-align: right;\n",
       "    }\n",
       "</style>\n",
       "<table border=\"1\" class=\"dataframe\">\n",
       "  <thead>\n",
       "    <tr style=\"text-align: right;\">\n",
       "      <th></th>\n",
       "      <th>state</th>\n",
       "      <th>region</th>\n",
       "    </tr>\n",
       "  </thead>\n",
       "  <tbody>\n",
       "    <tr>\n",
       "      <th>8038383</th>\n",
       "      <td>Missouri</td>\n",
       "      <td>midwest</td>\n",
       "    </tr>\n",
       "    <tr>\n",
       "      <th>1154980</th>\n",
       "      <td>Alaska</td>\n",
       "      <td>west</td>\n",
       "    </tr>\n",
       "    <tr>\n",
       "      <th>30996831</th>\n",
       "      <td>New Hampshire</td>\n",
       "      <td>northeast</td>\n",
       "    </tr>\n",
       "    <tr>\n",
       "      <th>3871589</th>\n",
       "      <td>Hawaii</td>\n",
       "      <td>west</td>\n",
       "    </tr>\n",
       "    <tr>\n",
       "      <th>10241770</th>\n",
       "      <td>Indiana</td>\n",
       "      <td>midwest</td>\n",
       "    </tr>\n",
       "    <tr>\n",
       "      <th>18132942</th>\n",
       "      <td>Maine</td>\n",
       "      <td>northeast</td>\n",
       "    </tr>\n",
       "    <tr>\n",
       "      <th>29176605</th>\n",
       "      <td>Indiana</td>\n",
       "      <td>midwest</td>\n",
       "    </tr>\n",
       "    <tr>\n",
       "      <th>26561847</th>\n",
       "      <td>Tennessee</td>\n",
       "      <td>south</td>\n",
       "    </tr>\n",
       "    <tr>\n",
       "      <th>26479444</th>\n",
       "      <td>Pennsylvania</td>\n",
       "      <td>northeast</td>\n",
       "    </tr>\n",
       "    <tr>\n",
       "      <th>11287524</th>\n",
       "      <td>Delaware</td>\n",
       "      <td>south</td>\n",
       "    </tr>\n",
       "  </tbody>\n",
       "</table>\n",
       "</div>"
      ],
      "text/plain": [
       "                  state     region\n",
       "8038383        Missouri    midwest\n",
       "1154980          Alaska       west\n",
       "30996831  New Hampshire  northeast\n",
       "3871589          Hawaii       west\n",
       "10241770        Indiana    midwest\n",
       "18132942          Maine  northeast\n",
       "29176605        Indiana    midwest\n",
       "26561847      Tennessee      south\n",
       "26479444   Pennsylvania  northeast\n",
       "11287524       Delaware      south"
      ]
     },
     "execution_count": 10,
     "metadata": {},
     "output_type": "execute_result"
    }
   ],
   "source": [
    "# check results\n",
    "df[['state','region']].sample(10)"
   ]
  },
  {
   "cell_type": "code",
   "execution_count": 11,
   "id": "3c087399",
   "metadata": {},
   "outputs": [
    {
     "data": {
      "text/plain": [
       "0"
      ]
     },
     "execution_count": 11,
     "metadata": {},
     "output_type": "execute_result"
    }
   ],
   "source": [
    "# check for missing\n",
    "df['region'].isnull().sum()"
   ]
  },
  {
   "cell_type": "code",
   "execution_count": 12,
   "id": "7ae38ef2",
   "metadata": {},
   "outputs": [
    {
     "data": {
      "text/plain": [
       "(32435059, 26)"
      ]
     },
     "execution_count": 12,
     "metadata": {},
     "output_type": "execute_result"
    }
   ],
   "source": [
    "df.shape"
   ]
  },
  {
   "cell_type": "code",
   "execution_count": 13,
   "id": "a435b4bb",
   "metadata": {},
   "outputs": [],
   "source": [
    "# create a crosstab for spender_flag and region\n",
    "crosstab = pd.crosstab(df['region'], df['spender_flag'], dropna = False)"
   ]
  },
  {
   "cell_type": "code",
   "execution_count": 14,
   "id": "dad04c88",
   "metadata": {},
   "outputs": [
    {
     "data": {
      "text/html": [
       "<div>\n",
       "<style scoped>\n",
       "    .dataframe tbody tr th:only-of-type {\n",
       "        vertical-align: middle;\n",
       "    }\n",
       "\n",
       "    .dataframe tbody tr th {\n",
       "        vertical-align: top;\n",
       "    }\n",
       "\n",
       "    .dataframe thead th {\n",
       "        text-align: right;\n",
       "    }\n",
       "</style>\n",
       "<table border=\"1\" class=\"dataframe\">\n",
       "  <thead>\n",
       "    <tr style=\"text-align: right;\">\n",
       "      <th>spender_flag</th>\n",
       "      <th>High spender</th>\n",
       "      <th>Low spender</th>\n",
       "    </tr>\n",
       "    <tr>\n",
       "      <th>region</th>\n",
       "      <th></th>\n",
       "      <th></th>\n",
       "    </tr>\n",
       "  </thead>\n",
       "  <tbody>\n",
       "    <tr>\n",
       "      <th>midwest</th>\n",
       "      <td>1269</td>\n",
       "      <td>47412</td>\n",
       "    </tr>\n",
       "    <tr>\n",
       "      <th>northeast</th>\n",
       "      <td>915</td>\n",
       "      <td>35138</td>\n",
       "    </tr>\n",
       "    <tr>\n",
       "      <th>south</th>\n",
       "      <td>1787</td>\n",
       "      <td>66232</td>\n",
       "    </tr>\n",
       "    <tr>\n",
       "      <th>west</th>\n",
       "      <td>1386</td>\n",
       "      <td>52070</td>\n",
       "    </tr>\n",
       "  </tbody>\n",
       "</table>\n",
       "</div>"
      ],
      "text/plain": [
       "spender_flag  High spender  Low spender\n",
       "region                                 \n",
       "midwest               1269        47412\n",
       "northeast              915        35138\n",
       "south                 1787        66232\n",
       "west                  1386        52070"
      ]
     },
     "execution_count": 14,
     "metadata": {},
     "output_type": "execute_result"
    }
   ],
   "source": [
    "crosstab"
   ]
  },
  {
   "cell_type": "code",
   "execution_count": 15,
   "id": "ec537c8a",
   "metadata": {},
   "outputs": [
    {
     "data": {
      "text/html": [
       "<div>\n",
       "<style scoped>\n",
       "    .dataframe tbody tr th:only-of-type {\n",
       "        vertical-align: middle;\n",
       "    }\n",
       "\n",
       "    .dataframe tbody tr th {\n",
       "        vertical-align: top;\n",
       "    }\n",
       "\n",
       "    .dataframe thead th {\n",
       "        text-align: right;\n",
       "    }\n",
       "</style>\n",
       "<table border=\"1\" class=\"dataframe\">\n",
       "  <thead>\n",
       "    <tr style=\"text-align: right;\">\n",
       "      <th>spender_flag</th>\n",
       "      <th>High spender</th>\n",
       "      <th>Low spender</th>\n",
       "    </tr>\n",
       "    <tr>\n",
       "      <th>region</th>\n",
       "      <th></th>\n",
       "      <th></th>\n",
       "    </tr>\n",
       "  </thead>\n",
       "  <tbody>\n",
       "    <tr>\n",
       "      <th>midwest</th>\n",
       "      <td>0.026068</td>\n",
       "      <td>0.973932</td>\n",
       "    </tr>\n",
       "    <tr>\n",
       "      <th>northeast</th>\n",
       "      <td>0.025379</td>\n",
       "      <td>0.974621</td>\n",
       "    </tr>\n",
       "    <tr>\n",
       "      <th>south</th>\n",
       "      <td>0.026272</td>\n",
       "      <td>0.973728</td>\n",
       "    </tr>\n",
       "    <tr>\n",
       "      <th>west</th>\n",
       "      <td>0.025928</td>\n",
       "      <td>0.974072</td>\n",
       "    </tr>\n",
       "  </tbody>\n",
       "</table>\n",
       "</div>"
      ],
      "text/plain": [
       "spender_flag  High spender  Low spender\n",
       "region                                 \n",
       "midwest           0.026068     0.973932\n",
       "northeast         0.025379     0.974621\n",
       "south             0.026272     0.973728\n",
       "west              0.025928     0.974072"
      ]
     },
     "execution_count": 15,
     "metadata": {},
     "output_type": "execute_result"
    }
   ],
   "source": [
    "# normalize rows to show differences in percentage\n",
    "crosstab2 = pd.crosstab(df['region'], df['spender_flag'],normalize = 'index', dropna = False)\n",
    "crosstab2"
   ]
  },
  {
   "cell_type": "code",
   "execution_count": 16,
   "id": "64b15d3d",
   "metadata": {},
   "outputs": [],
   "source": [
    "# there isn't a significant difference between regions because each is the same percent compared to total"
   ]
  },
  {
   "cell_type": "markdown",
   "id": "bd118902",
   "metadata": {},
   "source": [
    "### Exclude low activity customers"
   ]
  },
  {
   "cell_type": "code",
   "execution_count": 20,
   "id": "7c47c216",
   "metadata": {},
   "outputs": [],
   "source": [
    "# create flag for low activity\n",
    "df.loc[df['max_order'] < 5, 'activity'] = 'Low activity'\n",
    "df.loc[df['max_order'] >= 5, 'activity'] = 'Regular activity'"
   ]
  },
  {
   "cell_type": "code",
   "execution_count": 21,
   "id": "1ae620a7",
   "metadata": {},
   "outputs": [],
   "source": [
    "# create dataframe excluding low activity\n",
    "df_active = df[df['activity'] == 'Regular activity']"
   ]
  },
  {
   "cell_type": "code",
   "execution_count": 22,
   "id": "59d3c600",
   "metadata": {},
   "outputs": [
    {
     "data": {
      "text/plain": [
       "(30993489, 27)"
      ]
     },
     "execution_count": 22,
     "metadata": {},
     "output_type": "execute_result"
    }
   ],
   "source": [
    "# compare shape\n",
    "df_active.shape"
   ]
  },
  {
   "cell_type": "code",
   "execution_count": 23,
   "id": "efa39155",
   "metadata": {},
   "outputs": [
    {
     "data": {
      "text/plain": [
       "(32435059, 27)"
      ]
     },
     "execution_count": 23,
     "metadata": {},
     "output_type": "execute_result"
    }
   ],
   "source": [
    "df.shape"
   ]
  },
  {
   "cell_type": "code",
   "execution_count": 24,
   "id": "5262b7c4",
   "metadata": {},
   "outputs": [],
   "source": [
    "# export \n",
    "df_active.to_pickle(os.path.join(path, '02 Data','Prepared Data', 'df_active.pkl'))"
   ]
  },
  {
   "cell_type": "markdown",
   "id": "44bcdf05",
   "metadata": {},
   "source": [
    "## Create a customer profiling variable"
   ]
  },
  {
   "cell_type": "code",
   "execution_count": 25,
   "id": "d92365b6",
   "metadata": {},
   "outputs": [],
   "source": [
    "# create some customer profiles "
   ]
  },
  {
   "cell_type": "code",
   "execution_count": 26,
   "id": "75201c48",
   "metadata": {},
   "outputs": [
    {
     "name": "stderr",
     "output_type": "stream",
     "text": [
      "/var/folders/xl/7_yccdl123jf248d4rbf8h1m0000gn/T/ipykernel_51040/1050002479.py:1: SettingWithCopyWarning: \n",
      "A value is trying to be set on a copy of a slice from a DataFrame.\n",
      "Try using .loc[row_indexer,col_indexer] = value instead\n",
      "\n",
      "See the caveats in the documentation: https://pandas.pydata.org/pandas-docs/stable/user_guide/indexing.html#returning-a-view-versus-a-copy\n",
      "  df_active.loc[(df_active['age'] <60) & (df_active['income'] <= 500000) & (df_active['income'] > 50000) &\n"
     ]
    }
   ],
   "source": [
    "df_active.loc[(df_active['age'] <60) & (df_active['income'] <= 500000) & (df_active['income'] > 50000) & \n",
    "              (df_active['number_of_dependents'] >= 1), 'customer_profile']  = 'young middle-class parents'\n",
    "df_active.loc[(df_active['age'] <60) & (df_active['income'] < 50000) & \n",
    "              (df_active['number_of_dependents'] >= 1), 'customer_profile']  = 'young lower-class parents'\n",
    "df_active.loc[(df_active['age'] >=60) & (df_active['income'] <= 500000) & (df_active['income'] > 50000),\n",
    "             'customer_profile']  = 'older middle-class'\n",
    "df_active.loc[(df_active['age'] >=60) & (df_active['income'] < 50000),\n",
    "             'customer_profile']  = 'older lower-class'\n",
    "df_active.loc[(df_active['age'] <60) & (df_active['income'] <= 500000) & (df_active['income'] > 50000) & \n",
    "              (df_active['number_of_dependents'] < 1), 'customer_profile']  = 'young middle-class not parents'\n",
    "df_active.loc[(df_active['age'] <60) & (df_active['income'] < 50000) & \n",
    "              (df_active['number_of_dependents'] < 1), 'customer_profile']  = 'young lower-class not parents'"
   ]
  },
  {
   "cell_type": "code",
   "execution_count": 27,
   "id": "26148a69",
   "metadata": {},
   "outputs": [
    {
     "data": {
      "text/plain": [
       "young middle-class parents        13448054\n",
       "older middle-class                 9700685\n",
       "young middle-class not parents     4459461\n",
       "young lower-class parents          1855394\n",
       "older lower-class                   873932\n",
       "young lower-class not parents       636893\n",
       "NaN                                  19070\n",
       "Name: customer_profile, dtype: int64"
      ]
     },
     "execution_count": 27,
     "metadata": {},
     "output_type": "execute_result"
    }
   ],
   "source": [
    "# check values\n",
    "df_active['customer_profile'].value_counts(dropna = False)"
   ]
  },
  {
   "cell_type": "markdown",
   "id": "04d13343",
   "metadata": {},
   "source": [
    "### Create visualizations"
   ]
  },
  {
   "cell_type": "code",
   "execution_count": 28,
   "id": "baa28054",
   "metadata": {},
   "outputs": [
    {
     "data": {
      "image/png": "[encoded data removed]",
      "text/plain": [
       "<Figure size 432x288 with 1 Axes>"
      ]
     },
     "metadata": {
      "needs_background": "light"
     },
     "output_type": "display_data"
    }
   ],
   "source": [
    "# create a bar chart for customer profiles\n",
    "bar1 = df_active['customer_profile'].value_counts().plot.bar(rot=70)\n",
    "plt.ylabel(\"Number of Customers\", labelpad=14)\n",
    "plt.title(\"Count of Customers by Profile\", y = 1.02)\n",
    "plt.ticklabel_format(style='plain', axis='y')\n",
    "plt.show()"
   ]
  },
  {
   "cell_type": "code",
   "execution_count": 30,
   "id": "1af5861a",
   "metadata": {},
   "outputs": [],
   "source": [
    "bar1.figure.savefig(os.path.join(path, '04 Analysis','Visualizations', 'bar_customer_profiles.png'))"
   ]
  },
  {
   "cell_type": "code",
   "execution_count": 31,
   "id": "2aad60b1",
   "metadata": {
    "scrolled": true
   },
   "outputs": [
    {
     "data": {
      "text/html": [
       "<div>\n",
       "<style scoped>\n",
       "    .dataframe tbody tr th:only-of-type {\n",
       "        vertical-align: middle;\n",
       "    }\n",
       "\n",
       "    .dataframe tbody tr th {\n",
       "        vertical-align: top;\n",
       "    }\n",
       "\n",
       "    .dataframe thead tr th {\n",
       "        text-align: left;\n",
       "    }\n",
       "\n",
       "    .dataframe thead tr:last-of-type th {\n",
       "        text-align: right;\n",
       "    }\n",
       "</style>\n",
       "<table border=\"1\" class=\"dataframe\">\n",
       "  <thead>\n",
       "    <tr>\n",
       "      <th></th>\n",
       "      <th colspan=\"3\" halign=\"left\">order_frequency</th>\n",
       "    </tr>\n",
       "    <tr>\n",
       "      <th></th>\n",
       "      <th>mean</th>\n",
       "      <th>min</th>\n",
       "      <th>max</th>\n",
       "    </tr>\n",
       "    <tr>\n",
       "      <th>customer_profile</th>\n",
       "      <th></th>\n",
       "      <th></th>\n",
       "      <th></th>\n",
       "    </tr>\n",
       "  </thead>\n",
       "  <tbody>\n",
       "    <tr>\n",
       "      <th>older lower-class</th>\n",
       "      <td>15.063254</td>\n",
       "      <td>0.0</td>\n",
       "      <td>30.0</td>\n",
       "    </tr>\n",
       "    <tr>\n",
       "      <th>older middle-class</th>\n",
       "      <td>15.102705</td>\n",
       "      <td>0.0</td>\n",
       "      <td>30.0</td>\n",
       "    </tr>\n",
       "    <tr>\n",
       "      <th>young lower-class not parents</th>\n",
       "      <td>15.173864</td>\n",
       "      <td>0.0</td>\n",
       "      <td>30.0</td>\n",
       "    </tr>\n",
       "    <tr>\n",
       "      <th>young lower-class parents</th>\n",
       "      <td>15.018747</td>\n",
       "      <td>0.0</td>\n",
       "      <td>30.0</td>\n",
       "    </tr>\n",
       "    <tr>\n",
       "      <th>young middle-class not parents</th>\n",
       "      <td>15.059122</td>\n",
       "      <td>0.0</td>\n",
       "      <td>30.0</td>\n",
       "    </tr>\n",
       "    <tr>\n",
       "      <th>young middle-class parents</th>\n",
       "      <td>15.106802</td>\n",
       "      <td>0.0</td>\n",
       "      <td>30.0</td>\n",
       "    </tr>\n",
       "  </tbody>\n",
       "</table>\n",
       "</div>"
      ],
      "text/plain": [
       "                               order_frequency           \n",
       "                                          mean  min   max\n",
       "customer_profile                                         \n",
       "older lower-class                    15.063254  0.0  30.0\n",
       "older middle-class                   15.102705  0.0  30.0\n",
       "young lower-class not parents        15.173864  0.0  30.0\n",
       "young lower-class parents            15.018747  0.0  30.0\n",
       "young middle-class not parents       15.059122  0.0  30.0\n",
       "young middle-class parents           15.106802  0.0  30.0"
      ]
     },
     "execution_count": 31,
     "metadata": {},
     "output_type": "execute_result"
    }
   ],
   "source": [
    "# find aggregate values for order frequency by customer profile\n",
    "df_active.groupby('customer_profile').agg({'order_frequency': ['mean', 'min', 'max']})"
   ]
  },
  {
   "cell_type": "code",
   "execution_count": 33,
   "id": "964d4b51",
   "metadata": {},
   "outputs": [],
   "source": [
    "df_active.loc[df_active['prices'] >100, 'prices'] = np.nan"
   ]
  },
  {
   "cell_type": "code",
   "execution_count": 34,
   "id": "7154241d",
   "metadata": {
    "scrolled": true
   },
   "outputs": [
    {
     "data": {
      "text/html": [
       "<div>\n",
       "<style scoped>\n",
       "    .dataframe tbody tr th:only-of-type {\n",
       "        vertical-align: middle;\n",
       "    }\n",
       "\n",
       "    .dataframe tbody tr th {\n",
       "        vertical-align: top;\n",
       "    }\n",
       "\n",
       "    .dataframe thead tr th {\n",
       "        text-align: left;\n",
       "    }\n",
       "\n",
       "    .dataframe thead tr:last-of-type th {\n",
       "        text-align: right;\n",
       "    }\n",
       "</style>\n",
       "<table border=\"1\" class=\"dataframe\">\n",
       "  <thead>\n",
       "    <tr>\n",
       "      <th></th>\n",
       "      <th colspan=\"3\" halign=\"left\">prices</th>\n",
       "    </tr>\n",
       "    <tr>\n",
       "      <th></th>\n",
       "      <th>mean</th>\n",
       "      <th>min</th>\n",
       "      <th>max</th>\n",
       "    </tr>\n",
       "    <tr>\n",
       "      <th>customer_profile</th>\n",
       "      <th></th>\n",
       "      <th></th>\n",
       "      <th></th>\n",
       "    </tr>\n",
       "  </thead>\n",
       "  <tbody>\n",
       "    <tr>\n",
       "      <th>older lower-class</th>\n",
       "      <td>6.511949</td>\n",
       "      <td>1.0</td>\n",
       "      <td>25.0</td>\n",
       "    </tr>\n",
       "    <tr>\n",
       "      <th>older middle-class</th>\n",
       "      <td>7.911247</td>\n",
       "      <td>1.0</td>\n",
       "      <td>25.0</td>\n",
       "    </tr>\n",
       "    <tr>\n",
       "      <th>young lower-class not parents</th>\n",
       "      <td>6.780190</td>\n",
       "      <td>1.0</td>\n",
       "      <td>25.0</td>\n",
       "    </tr>\n",
       "    <tr>\n",
       "      <th>young lower-class parents</th>\n",
       "      <td>6.774377</td>\n",
       "      <td>1.0</td>\n",
       "      <td>25.0</td>\n",
       "    </tr>\n",
       "    <tr>\n",
       "      <th>young middle-class not parents</th>\n",
       "      <td>7.926820</td>\n",
       "      <td>1.0</td>\n",
       "      <td>25.0</td>\n",
       "    </tr>\n",
       "    <tr>\n",
       "      <th>young middle-class parents</th>\n",
       "      <td>7.929619</td>\n",
       "      <td>1.0</td>\n",
       "      <td>25.0</td>\n",
       "    </tr>\n",
       "  </tbody>\n",
       "</table>\n",
       "</div>"
      ],
      "text/plain": [
       "                                  prices           \n",
       "                                    mean  min   max\n",
       "customer_profile                                   \n",
       "older lower-class               6.511949  1.0  25.0\n",
       "older middle-class              7.911247  1.0  25.0\n",
       "young lower-class not parents   6.780190  1.0  25.0\n",
       "young lower-class parents       6.774377  1.0  25.0\n",
       "young middle-class not parents  7.926820  1.0  25.0\n",
       "young middle-class parents      7.929619  1.0  25.0"
      ]
     },
     "execution_count": 34,
     "metadata": {},
     "output_type": "execute_result"
    }
   ],
   "source": [
    "# find aggregate values for prices by customer profile\n",
    "df_active.groupby('customer_profile').agg({'prices': ['mean', 'min', 'max']})"
   ]
  },
  {
   "cell_type": "code",
   "execution_count": 35,
   "id": "a31870bc",
   "metadata": {},
   "outputs": [],
   "source": [
    "# create crosstab for customer profiles by region\n",
    "crosstab2 = pd.crosstab(df_active['customer_profile'], df_active['region'], dropna = False)"
   ]
  },
  {
   "cell_type": "code",
   "execution_count": 36,
   "id": "2da2437a",
   "metadata": {},
   "outputs": [
    {
     "data": {
      "text/html": [
       "<div>\n",
       "<style scoped>\n",
       "    .dataframe tbody tr th:only-of-type {\n",
       "        vertical-align: middle;\n",
       "    }\n",
       "\n",
       "    .dataframe tbody tr th {\n",
       "        vertical-align: top;\n",
       "    }\n",
       "\n",
       "    .dataframe thead th {\n",
       "        text-align: right;\n",
       "    }\n",
       "</style>\n",
       "<table border=\"1\" class=\"dataframe\">\n",
       "  <thead>\n",
       "    <tr style=\"text-align: right;\">\n",
       "      <th>region</th>\n",
       "      <th>midwest</th>\n",
       "      <th>northeast</th>\n",
       "      <th>south</th>\n",
       "      <th>west</th>\n",
       "    </tr>\n",
       "    <tr>\n",
       "      <th>customer_profile</th>\n",
       "      <th></th>\n",
       "      <th></th>\n",
       "      <th></th>\n",
       "      <th></th>\n",
       "    </tr>\n",
       "  </thead>\n",
       "  <tbody>\n",
       "    <tr>\n",
       "      <th>older lower-class</th>\n",
       "      <td>196858</td>\n",
       "      <td>158698</td>\n",
       "      <td>299519</td>\n",
       "      <td>218857</td>\n",
       "    </tr>\n",
       "    <tr>\n",
       "      <th>older middle-class</th>\n",
       "      <td>2256177</td>\n",
       "      <td>1725634</td>\n",
       "      <td>3222753</td>\n",
       "      <td>2496121</td>\n",
       "    </tr>\n",
       "    <tr>\n",
       "      <th>young lower-class not parents</th>\n",
       "      <td>144311</td>\n",
       "      <td>116476</td>\n",
       "      <td>216849</td>\n",
       "      <td>159257</td>\n",
       "    </tr>\n",
       "    <tr>\n",
       "      <th>young lower-class parents</th>\n",
       "      <td>443362</td>\n",
       "      <td>312675</td>\n",
       "      <td>627556</td>\n",
       "      <td>471801</td>\n",
       "    </tr>\n",
       "    <tr>\n",
       "      <th>young middle-class not parents</th>\n",
       "      <td>1061709</td>\n",
       "      <td>758981</td>\n",
       "      <td>1489079</td>\n",
       "      <td>1149692</td>\n",
       "    </tr>\n",
       "    <tr>\n",
       "      <th>young middle-class parents</th>\n",
       "      <td>3157860</td>\n",
       "      <td>2394292</td>\n",
       "      <td>4460705</td>\n",
       "      <td>3435197</td>\n",
       "    </tr>\n",
       "  </tbody>\n",
       "</table>\n",
       "</div>"
      ],
      "text/plain": [
       "region                          midwest  northeast    south     west\n",
       "customer_profile                                                    \n",
       "older lower-class                196858     158698   299519   218857\n",
       "older middle-class              2256177    1725634  3222753  2496121\n",
       "young lower-class not parents    144311     116476   216849   159257\n",
       "young lower-class parents        443362     312675   627556   471801\n",
       "young middle-class not parents  1061709     758981  1489079  1149692\n",
       "young middle-class parents      3157860    2394292  4460705  3435197"
      ]
     },
     "execution_count": 36,
     "metadata": {},
     "output_type": "execute_result"
    }
   ],
   "source": [
    "crosstab2"
   ]
  },
  {
   "cell_type": "code",
   "execution_count": 37,
   "id": "3c1e0f55",
   "metadata": {},
   "outputs": [],
   "source": [
    "# create crosstab for customer profiles by department_id\n",
    "crosstab3 = pd.crosstab(df_active['customer_profile'], df_active['department_id'], dropna = False)"
   ]
  },
  {
   "cell_type": "code",
   "execution_count": 38,
   "id": "55662a5a",
   "metadata": {
    "scrolled": false
   },
   "outputs": [
    {
     "data": {
      "text/html": [
       "<div>\n",
       "<style scoped>\n",
       "    .dataframe tbody tr th:only-of-type {\n",
       "        vertical-align: middle;\n",
       "    }\n",
       "\n",
       "    .dataframe tbody tr th {\n",
       "        vertical-align: top;\n",
       "    }\n",
       "\n",
       "    .dataframe thead th {\n",
       "        text-align: right;\n",
       "    }\n",
       "</style>\n",
       "<table border=\"1\" class=\"dataframe\">\n",
       "  <thead>\n",
       "    <tr style=\"text-align: right;\">\n",
       "      <th>department_id</th>\n",
       "      <th>1.0</th>\n",
       "      <th>2.0</th>\n",
       "      <th>3.0</th>\n",
       "      <th>4.0</th>\n",
       "      <th>5.0</th>\n",
       "      <th>6.0</th>\n",
       "      <th>7.0</th>\n",
       "      <th>8.0</th>\n",
       "      <th>9.0</th>\n",
       "      <th>10.0</th>\n",
       "      <th>...</th>\n",
       "      <th>12.0</th>\n",
       "      <th>13.0</th>\n",
       "      <th>14.0</th>\n",
       "      <th>15.0</th>\n",
       "      <th>16.0</th>\n",
       "      <th>17.0</th>\n",
       "      <th>18.0</th>\n",
       "      <th>19.0</th>\n",
       "      <th>20.0</th>\n",
       "      <th>21.0</th>\n",
       "    </tr>\n",
       "    <tr>\n",
       "      <th>customer_profile</th>\n",
       "      <th></th>\n",
       "      <th></th>\n",
       "      <th></th>\n",
       "      <th></th>\n",
       "      <th></th>\n",
       "      <th></th>\n",
       "      <th></th>\n",
       "      <th></th>\n",
       "      <th></th>\n",
       "      <th></th>\n",
       "      <th></th>\n",
       "      <th></th>\n",
       "      <th></th>\n",
       "      <th></th>\n",
       "      <th></th>\n",
       "      <th></th>\n",
       "      <th></th>\n",
       "      <th></th>\n",
       "      <th></th>\n",
       "      <th></th>\n",
       "      <th></th>\n",
       "    </tr>\n",
       "  </thead>\n",
       "  <tbody>\n",
       "    <tr>\n",
       "      <th>older lower-class</th>\n",
       "      <td>55793</td>\n",
       "      <td>924</td>\n",
       "      <td>26518</td>\n",
       "      <td>208564</td>\n",
       "      <td>4766</td>\n",
       "      <td>4986</td>\n",
       "      <td>107798</td>\n",
       "      <td>1977</td>\n",
       "      <td>15258</td>\n",
       "      <td>1244</td>\n",
       "      <td>...</td>\n",
       "      <td>6977</td>\n",
       "      <td>42203</td>\n",
       "      <td>25078</td>\n",
       "      <td>19068</td>\n",
       "      <td>127713</td>\n",
       "      <td>23518</td>\n",
       "      <td>6442</td>\n",
       "      <td>153388</td>\n",
       "      <td>26769</td>\n",
       "      <td>1565</td>\n",
       "    </tr>\n",
       "    <tr>\n",
       "      <th>older middle-class</th>\n",
       "      <td>672484</td>\n",
       "      <td>10666</td>\n",
       "      <td>355471</td>\n",
       "      <td>2893619</td>\n",
       "      <td>42688</td>\n",
       "      <td>81344</td>\n",
       "      <td>774975</td>\n",
       "      <td>29749</td>\n",
       "      <td>264472</td>\n",
       "      <td>10179</td>\n",
       "      <td>...</td>\n",
       "      <td>225561</td>\n",
       "      <td>567224</td>\n",
       "      <td>202433</td>\n",
       "      <td>324892</td>\n",
       "      <td>1633284</td>\n",
       "      <td>216646</td>\n",
       "      <td>132224</td>\n",
       "      <td>786379</td>\n",
       "      <td>316345</td>\n",
       "      <td>20217</td>\n",
       "    </tr>\n",
       "    <tr>\n",
       "      <th>young lower-class not parents</th>\n",
       "      <td>40292</td>\n",
       "      <td>903</td>\n",
       "      <td>20118</td>\n",
       "      <td>158068</td>\n",
       "      <td>3308</td>\n",
       "      <td>4414</td>\n",
       "      <td>69863</td>\n",
       "      <td>1745</td>\n",
       "      <td>12736</td>\n",
       "      <td>823</td>\n",
       "      <td>...</td>\n",
       "      <td>6990</td>\n",
       "      <td>31631</td>\n",
       "      <td>16806</td>\n",
       "      <td>15450</td>\n",
       "      <td>97490</td>\n",
       "      <td>15810</td>\n",
       "      <td>5891</td>\n",
       "      <td>102579</td>\n",
       "      <td>20750</td>\n",
       "      <td>1308</td>\n",
       "    </tr>\n",
       "    <tr>\n",
       "      <th>young lower-class parents</th>\n",
       "      <td>119092</td>\n",
       "      <td>2059</td>\n",
       "      <td>60121</td>\n",
       "      <td>459682</td>\n",
       "      <td>9973</td>\n",
       "      <td>12236</td>\n",
       "      <td>205460</td>\n",
       "      <td>4890</td>\n",
       "      <td>36487</td>\n",
       "      <td>2609</td>\n",
       "      <td>...</td>\n",
       "      <td>20311</td>\n",
       "      <td>92227</td>\n",
       "      <td>49524</td>\n",
       "      <td>44457</td>\n",
       "      <td>277160</td>\n",
       "      <td>47888</td>\n",
       "      <td>16907</td>\n",
       "      <td>303562</td>\n",
       "      <td>58929</td>\n",
       "      <td>3674</td>\n",
       "    </tr>\n",
       "    <tr>\n",
       "      <th>young middle-class not parents</th>\n",
       "      <td>304960</td>\n",
       "      <td>4968</td>\n",
       "      <td>165418</td>\n",
       "      <td>1339458</td>\n",
       "      <td>21515</td>\n",
       "      <td>38194</td>\n",
       "      <td>354425</td>\n",
       "      <td>13740</td>\n",
       "      <td>121211</td>\n",
       "      <td>4501</td>\n",
       "      <td>...</td>\n",
       "      <td>101207</td>\n",
       "      <td>260180</td>\n",
       "      <td>92989</td>\n",
       "      <td>151216</td>\n",
       "      <td>753728</td>\n",
       "      <td>97028</td>\n",
       "      <td>62948</td>\n",
       "      <td>351495</td>\n",
       "      <td>145826</td>\n",
       "      <td>9559</td>\n",
       "    </tr>\n",
       "    <tr>\n",
       "      <th>young middle-class parents</th>\n",
       "      <td>927901</td>\n",
       "      <td>14875</td>\n",
       "      <td>492383</td>\n",
       "      <td>4015642</td>\n",
       "      <td>61769</td>\n",
       "      <td>114630</td>\n",
       "      <td>1057657</td>\n",
       "      <td>40807</td>\n",
       "      <td>371357</td>\n",
       "      <td>14092</td>\n",
       "      <td>...</td>\n",
       "      <td>313351</td>\n",
       "      <td>788152</td>\n",
       "      <td>283603</td>\n",
       "      <td>456222</td>\n",
       "      <td>2284411</td>\n",
       "      <td>298037</td>\n",
       "      <td>185703</td>\n",
       "      <td>1067500</td>\n",
       "      <td>434815</td>\n",
       "      <td>28436</td>\n",
       "    </tr>\n",
       "  </tbody>\n",
       "</table>\n",
       "<p>6 rows × 21 columns</p>\n",
       "</div>"
      ],
      "text/plain": [
       "department_id                     1.0    2.0     3.0      4.0    5.0     6.0   \\\n",
       "customer_profile                                                                \n",
       "older lower-class                55793    924   26518   208564   4766    4986   \n",
       "older middle-class              672484  10666  355471  2893619  42688   81344   \n",
       "young lower-class not parents    40292    903   20118   158068   3308    4414   \n",
       "young lower-class parents       119092   2059   60121   459682   9973   12236   \n",
       "young middle-class not parents  304960   4968  165418  1339458  21515   38194   \n",
       "young middle-class parents      927901  14875  492383  4015642  61769  114630   \n",
       "\n",
       "department_id                      7.0    8.0     9.0    10.0  ...    12.0  \\\n",
       "customer_profile                                               ...           \n",
       "older lower-class                107798   1977   15258   1244  ...    6977   \n",
       "older middle-class               774975  29749  264472  10179  ...  225561   \n",
       "young lower-class not parents     69863   1745   12736    823  ...    6990   \n",
       "young lower-class parents        205460   4890   36487   2609  ...   20311   \n",
       "young middle-class not parents   354425  13740  121211   4501  ...  101207   \n",
       "young middle-class parents      1057657  40807  371357  14092  ...  313351   \n",
       "\n",
       "department_id                     13.0    14.0    15.0     16.0    17.0  \\\n",
       "customer_profile                                                          \n",
       "older lower-class                42203   25078   19068   127713   23518   \n",
       "older middle-class              567224  202433  324892  1633284  216646   \n",
       "young lower-class not parents    31631   16806   15450    97490   15810   \n",
       "young lower-class parents        92227   49524   44457   277160   47888   \n",
       "young middle-class not parents  260180   92989  151216   753728   97028   \n",
       "young middle-class parents      788152  283603  456222  2284411  298037   \n",
       "\n",
       "department_id                     18.0     19.0    20.0   21.0  \n",
       "customer_profile                                                \n",
       "older lower-class                 6442   153388   26769   1565  \n",
       "older middle-class              132224   786379  316345  20217  \n",
       "young lower-class not parents     5891   102579   20750   1308  \n",
       "young lower-class parents        16907   303562   58929   3674  \n",
       "young middle-class not parents   62948   351495  145826   9559  \n",
       "young middle-class parents      185703  1067500  434815  28436  \n",
       "\n",
       "[6 rows x 21 columns]"
      ]
     },
     "execution_count": 38,
     "metadata": {},
     "output_type": "execute_result"
    }
   ],
   "source": [
    "crosstab3"
   ]
  },
  {
   "cell_type": "code",
   "execution_count": 39,
   "id": "a63c171e",
   "metadata": {},
   "outputs": [],
   "source": [
    "# copy to excel so I can see it all\n",
    "crosstab3.to_clipboard()"
   ]
  },
  {
   "cell_type": "code",
   "execution_count": 52,
   "id": "24ff2cb8",
   "metadata": {
    "scrolled": true
   },
   "outputs": [
    {
     "data": {
      "text/plain": [
       "Text(0, 0.5, 'Items')"
      ]
     },
     "execution_count": 52,
     "metadata": {},
     "output_type": "execute_result"
    },
    {
     "data": {
      "image/png": "[encoded data removed]",
      "text/plain": [
       "<Figure size 432x288 with 1 Axes>"
      ]
     },
     "metadata": {
      "needs_background": "light"
     },
     "output_type": "display_data"
    }
   ],
   "source": [
    "# create a stacked bar chart\n",
    "df2 = df_active.groupby(['customer_profile', 'department_id'])['department_id'].count().unstack('customer_profile').fillna(0)\n",
    "bar2 = df2.plot(kind='bar', stacked=True)\n",
    "plt.legend(bbox_to_anchor=(1.01, 1),\n",
    "           borderaxespad=0)\n",
    "plt.ticklabel_format(style='plain', axis='y')\n",
    "plt.xlabel('Departments')\n",
    "plt.ylabel('Items')"
   ]
  },
  {
   "cell_type": "code",
   "execution_count": 53,
   "id": "146d1147",
   "metadata": {},
   "outputs": [],
   "source": [
    "# save as image\n",
    "bar2.figure.savefig(os.path.join(path, '04 Analysis','Visualizations', 'bar_customer_profile_departments.png'))"
   ]
  },
  {
   "cell_type": "code",
   "execution_count": 48,
   "id": "bd9cf329",
   "metadata": {},
   "outputs": [
    {
     "data": {
      "image/png": "[encoded data removed]",
      "text/plain": [
       "<Figure size 432x288 with 1 Axes>"
      ]
     },
     "metadata": {
      "needs_background": "light"
     },
     "output_type": "display_data"
    }
   ],
   "source": [
    "# create bar chart to show regions\n",
    "df3 = df_active.groupby(['customer_profile', 'region'])['region'].count().unstack('customer_profile').fillna(0)\n",
    "bar3 = df3.plot(kind='bar', stacked=False)\n",
    "plt.legend(bbox_to_anchor=(1.01, 1),\n",
    "           borderaxespad=0)\n",
    "plt.ticklabel_format(style='plain', axis='y')"
   ]
  },
  {
   "cell_type": "code",
   "execution_count": 50,
   "id": "d6e6ae7c",
   "metadata": {},
   "outputs": [
    {
     "data": {
      "text/plain": [
       "Text(0.5, 0, 'Prices')"
      ]
     },
     "execution_count": 50,
     "metadata": {},
     "output_type": "execute_result"
    },
    {
     "data": {
      "image/png": "[encoded data removed]",
      "text/plain": [
       "<Figure size 432x288 with 1 Axes>"
      ]
     },
     "metadata": {
      "needs_background": "light"
     },
     "output_type": "display_data"
    }
   ],
   "source": [
    "hist = df_active['prices'].plot.hist(bins = 70)\n",
    "plt.xlabel('Prices')"
   ]
  },
  {
   "cell_type": "code",
   "execution_count": 51,
   "id": "c213a783",
   "metadata": {},
   "outputs": [],
   "source": [
    "hist.figure.savefig(os.path.join(path, '04 Analysis','Visualizations', 'hist_prices.png'))"
   ]
  },
  {
   "cell_type": "markdown",
   "id": "cd8fb476",
   "metadata": {},
   "source": [
    "# 04 Export"
   ]
  },
  {
   "cell_type": "code",
   "execution_count": null,
   "id": "584bb153",
   "metadata": {},
   "outputs": [],
   "source": [
    "# export \n",
    "df_active.to_pickle(os.path.join(path, '02 Data','Prepared Data', 'df_active.pkl'))"
   ]
  },
  {
   "cell_type": "code",
   "execution_count": null,
   "id": "d2bdf8c2",
   "metadata": {},
   "outputs": [],
   "source": []
  }
 ],
 "metadata": {
  "kernelspec": {
   "display_name": "Python 3 (ipykernel)",
   "language": "python",
   "name": "python3"
  },
  "language_info": {
   "codemirror_mode": {
    "name": "ipython",
    "version": 3
   },
   "file_extension": ".py",
   "mimetype": "text/x-python",
   "name": "python",
   "nbconvert_exporter": "python",
   "pygments_lexer": "ipython3",
   "version": "3.9.12"
  }
 },
 "nbformat": 4,
 "nbformat_minor": 5
}
